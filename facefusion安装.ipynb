{
 "cells": [
  {
   "cell_type": "markdown",
   "id": "52c4edad-510c-4b5c-a7f5-e28ae67f830d",
   "metadata": {},
   "source": [
    "# facefusion_installation.ipynb"
   ]
  },
  {
   "cell_type": "markdown",
   "id": "a8450c91-784b-4dc3-abc1-0d48ae7b9b07",
   "metadata": {},
   "source": [
    "## 第一步：克隆仓库"
   ]
  },
  {
   "cell_type": "code",
   "execution_count": 1,
   "id": "d2a30b4b-b2a7-4c6e-b356-75300e970e34",
   "metadata": {},
   "outputs": [
    {
     "name": "stdout",
     "output_type": "stream",
     "text": [
      "/root/autodl-tmp/src\n",
      "Cloning into 'facefusion'...\n",
      "Warning: Permanently added 'github.com' (ED25519) to the list of known hosts.\n",
      "git@github.com: Permission denied (publickey).\n",
      "fatal: Could not read from remote repository.\n",
      "\n",
      "Please make sure you have the correct access rights\n",
      "and the repository exists.\n"
     ]
    }
   ],
   "source": [
    "%cd /root/autodl-tmp/src/\n",
    "!git clone https://github.com/facefusion/facefusion.git"
   ]
  },
  {
   "cell_type": "markdown",
   "id": "567b2871-dcdc-4a7c-9962-2851f10a87e8",
   "metadata": {},
   "source": [
    "## 第二步：创建 conda 环境"
   ]
  },
  {
   "cell_type": "code",
   "execution_count": null,
   "id": "53b0bc02-98a3-4a28-93b7-7aaadd49f427",
   "metadata": {},
   "outputs": [],
   "source": [
    "%conda create -n fc python=3.10 --yes"
   ]
  },
  {
   "cell_type": "markdown",
   "id": "a24d5f35-ff27-4b5d-91d5-510f60dffe95",
   "metadata": {},
   "source": [
    "## 第三步：安装依赖"
   ]
  },
  {
   "cell_type": "code",
   "execution_count": null,
   "id": "86dd6a31-d86f-4070-9dbb-ffd9da2af195",
   "metadata": {},
   "outputs": [],
   "source": [
    "!python install.py"
   ]
  },
  {
   "cell_type": "markdown",
   "id": "a6861112-775f-427c-b489-a5d2880801ba",
   "metadata": {},
   "source": [
    "## 第四步：安装加速器（以 CUDA 为例）"
   ]
  },
  {
   "cell_type": "code",
   "execution_count": null,
   "id": "20ab7fb4-fc13-49f3-bdd4-de08ee94791d",
   "metadata": {},
   "outputs": [],
   "source": [
    "%conda install conda-forge::cuda-runtime=12.4.1 cudnn=8.9.2.26 conda-forge::gputil=1.4.0"
   ]
  }
 ],
 "metadata": {
  "kernelspec": {
   "display_name": "Python 3 (ipykernel)",
   "language": "python",
   "name": "python3"
  },
  "language_info": {
   "codemirror_mode": {
    "name": "ipython",
    "version": 3
   },
   "file_extension": ".py",
   "mimetype": "text/x-python",
   "name": "python",
   "nbconvert_exporter": "python",
   "pygments_lexer": "ipython3",
   "version": "3.10.8"
  }
 },
 "nbformat": 4,
 "nbformat_minor": 5
}
