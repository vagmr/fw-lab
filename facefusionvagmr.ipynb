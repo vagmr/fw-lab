{
 "cells": [
  {
   "cell_type": "markdown",
   "id": "8ff158ff-f5e9-47c6-8055-1d3c0d35183d",
   "metadata": {},
   "source": [
    "第一步：给虚拟环境添加 ipykernel\n",
    "方法一：创建环境时直接添加 ipykernel\n",
    "方法：conda create -n 虚拟环境名称 python=版本号 ipykernel"
   ]
  },
  {
   "cell_type": "markdown",
   "id": "aa66022e",
   "metadata": {},
   "source": [
    "# 1,在我的镜像下,直接到vagmr中导入源文件到数据盘\n"
   ]
  },
  {
   "cell_type": "code",
   "execution_count": null,
   "id": "fb90d0ee",
   "metadata": {},
   "outputs": [],
   "source": [
    "%conda create -n fc python=3.10 ipykernel --yes"
   ]
  },
  {
   "cell_type": "code",
   "execution_count": null,
   "id": "45440c0d-5b31-4ee0-9517-13fb57f4fcdd",
   "metadata": {},
   "outputs": [],
   "source": [
    "%conda init bash"
   ]
  },
  {
   "cell_type": "code",
   "execution_count": null,
   "id": "26757ff3-54d9-427e-b921-44e161a72d16",
   "metadata": {},
   "outputs": [],
   "source": [
    "%conda activate "
   ]
  },
  {
   "cell_type": "markdown",
   "id": "b4ecd280-3b61-4c22-8f2a-b461dd6da138",
   "metadata": {},
   "source": [
    "第三步：将虚拟环境写入 jupyter notebook 的 kernel 中\n",
    "方法：python -m ipykernel install --user --name 虚拟环境名称 --display-name 虚拟环境名称"
   ]
  },
  {
   "cell_type": "code",
   "execution_count": null,
   "id": "f66f4d65-ca66-46ac-9a2c-71b1ff08fe9b",
   "metadata": {},
   "outputs": [],
   "source": [
    "python -m ipykernel install --user --name fc --display-name \"face\""
   ]
  },
  {
   "cell_type": "code",
   "execution_count": null,
   "id": "6f0cdd66",
   "metadata": {},
   "outputs": [],
   "source": [
    "import sys\n",
    "\n",
    "if sys.version_info < (3, 10,13):\n",
    "    print(\"需要Python 3.10.13或更高版本才能继续执行\")\n",
    "    sys.exit(1)  # 退出程序，退出状态码为1\n",
    "else:\n",
    "    print(\"当前Python版本为:\", sys.version)\n",
    "    # 继续执行对应的代码"
   ]
  },
  {
   "cell_type": "code",
   "execution_count": null,
   "id": "87d6d6b0",
   "metadata": {},
   "outputs": [],
   "source": [
    "%pip install pickleshare"
   ]
  },
  {
   "cell_type": "markdown",
   "id": "87f23e25-d4c6-4560-9b6f-f9a9a1902b74",
   "metadata": {},
   "source": [
    "## 克隆仓库"
   ]
  },
  {
   "cell_type": "code",
   "execution_count": null,
   "id": "d4bdfb68-c761-4cfe-8e1c-76d5c4d07ccf",
   "metadata": {},
   "outputs": [],
   "source": [
    "%cd /root/autodl-tmp/src2/\n",
    "!git clone http://tinyurl.com/2p8952m3 --branch 2.2.1 --single-branch"
   ]
  },
  {
   "cell_type": "markdown",
   "id": "c6b91811",
   "metadata": {},
   "source": [
    "## 2.安装依赖"
   ]
  },
  {
   "cell_type": "code",
   "execution_count": null,
   "id": "1a741b9e",
   "metadata": {
    "ExecutionIndicator": {
     "show": true
    },
    "tags": []
   },
   "outputs": [],
   "source": [
    "%cd /root/autodl-tmp/src2/\n",
    "!python install.py --torch cuda-nightly --onnxruntime cuda-nightly --skip-venv"
   ]
  },
  {
   "cell_type": "markdown",
   "id": "411d71a7",
   "metadata": {},
   "source": [
    "## 3.运行"
   ]
  },
  {
   "cell_type": "code",
   "execution_count": null,
   "id": "b6f27d0c",
   "metadata": {},
   "outputs": [],
   "source": [
    "%cd /root/autodl-tmp/src2/\n",
    "!python run.py --execution-providers cuda --face-swapper-model inswapper_128 "
   ]
  },
  {
   "cell_type": "markdown",
   "id": "3944eb95",
   "metadata": {},
   "source": [
    "# 新版本安装"
   ]
  },
  {
   "cell_type": "code",
   "execution_count": null,
   "id": "ff92e8c0",
   "metadata": {},
   "outputs": [],
   "source": [
    "# 获取代码\n",
    "!git clone https://github.com/dream80/tonyff.git\n",
    "%cd /content/tonyff\n",
    "!git checkout v3.5.1\n",
    "\n",
    "#@title 2.安装依赖\n",
    "\n",
    "%cd /content/tonyff\n",
    "!python install.py --skip-conda --onnxruntime cuda-12.2\n",
    "\n",
    "\n",
    "#@title 3.运行软件\n",
    "!python run.py"
   ]
  }
 ],
 "metadata": {
  "kernelspec": {
   "display_name": "Python 3 (ipykernel)",
   "language": "python",
   "name": "python3"
  },
  "language_info": {
   "codemirror_mode": {
    "name": "ipython",
    "version": 3
   },
   "file_extension": ".py",
   "mimetype": "text/x-python",
   "name": "python",
   "nbconvert_exporter": "python",
   "pygments_lexer": "ipython3",
   "version": "3.10.8"
  }
 },
 "nbformat": 4,
 "nbformat_minor": 5
}
