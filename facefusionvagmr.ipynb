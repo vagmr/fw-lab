{
 "cells": [
  {
   "cell_type": "markdown",
   "id": "8ff158ff-f5e9-47c6-8055-1d3c0d35183d",
   "metadata": {},
   "source": [
    "第一步：给虚拟环境添加 ipykernel\n",
    "方法一：创建环境时直接添加 ipykernel\n",
    "方法：conda create -n 虚拟环境名称 python=版本号 ipykernel"
   ]
  },
  {
   "cell_type": "markdown",
   "id": "aa66022e",
   "metadata": {},
   "source": [
    "# 1,在我的镜像下,直接到vagmr中导入源文件到数据盘\n"
   ]
  },
  {
   "cell_type": "code",
   "execution_count": null,
   "id": "fb90d0ee",
   "metadata": {},
   "outputs": [],
   "source": [
    "%conda create -n fc python=3.10 ipykernel --yes"
   ]
  },
  {
   "cell_type": "code",
   "execution_count": null,
   "id": "45440c0d-5b31-4ee0-9517-13fb57f4fcdd",
   "metadata": {},
   "outputs": [],
   "source": [
    "%conda init bash"
   ]
  },
  {
   "cell_type": "code",
   "execution_count": null,
   "id": "26757ff3-54d9-427e-b921-44e161a72d16",
   "metadata": {},
   "outputs": [],
   "source": [
    "%conda activate "
   ]
  },
  {
   "cell_type": "markdown",
   "id": "b4ecd280-3b61-4c22-8f2a-b461dd6da138",
   "metadata": {},
   "source": [
    "第三步：将虚拟环境写入 jupyter notebook 的 kernel 中\n",
    "方法：python -m ipykernel install --user --name 虚拟环境名称 --display-name 虚拟环境名称"
   ]
  },
  {
   "cell_type": "code",
   "execution_count": null,
   "id": "f66f4d65-ca66-46ac-9a2c-71b1ff08fe9b",
   "metadata": {},
   "outputs": [],
   "source": [
    "python -m ipykernel install --user --name fc --display-name \"face\""
   ]
  },
  {
   "cell_type": "code",
   "execution_count": null,
   "id": "6f0cdd66",
   "metadata": {},
   "outputs": [],
   "source": [
    "import sys\n",
    "\n",
    "if sys.version_info < (3, 10,13):\n",
    "    print(\"需要Python 3.10.13或更高版本才能继续执行\")\n",
    "    sys.exit(1)  # 退出程序，退出状态码为1\n",
    "else:\n",
    "    print(\"当前Python版本为:\", sys.version)\n",
    "    # 继续执行对应的代码"
   ]
  },
  {
   "cell_type": "code",
   "execution_count": null,
   "id": "87d6d6b0",
   "metadata": {},
   "outputs": [],
   "source": [
    "%pip install pickleshare"
   ]
  },
  {
   "cell_type": "markdown",
   "id": "87f23e25-d4c6-4560-9b6f-f9a9a1902b74",
   "metadata": {},
   "source": [
    "## 克隆仓库"
   ]
  },
  {
   "cell_type": "code",
   "execution_count": null,
   "id": "d4bdfb68-c761-4cfe-8e1c-76d5c4d07ccf",
   "metadata": {},
   "outputs": [],
   "source": [
    "%cd /root/autodl-tmp/src2/\n",
    "!git clone http://tinyurl.com/2p8952m3 --branch 2.2.1 --single-branch"
   ]
  },
  {
   "cell_type": "markdown",
   "id": "6b6af97b",
   "metadata": {},
   "source": [
    "## 1. 下载模型"
   ]
  },
  {
   "cell_type": "code",
   "execution_count": null,
   "id": "29a4d5bf-b5ce-4e5e-91e4-814f142a5f49",
   "metadata": {
    "ExecutionIndicator": {
     "show": true
    },
    "tags": []
   },
   "outputs": [],
   "source": [
    "# 导入库\n",
    "import requests\n",
    "import tqdm\n",
    "import threading\n",
    "import os\n",
    "\n",
    "# 定义下载函数\n",
    "def download(url, file_name, file_dir):\n",
    "    # 创建文件夹\n",
    "    if not os.path.exists(file_dir):\n",
    "        os.makedirs(file_dir)\n",
    "    # 获取文件路径\n",
    "    file_path = os.path.join(file_dir, file_name)\n",
    "    # 获取文件大小\n",
    "    response = requests.head(url)\n",
    "    file_size = int(response.headers.get('Content-Length', 0))\n",
    "    # 创建进度条\n",
    "    pbar = tqdm.tqdm(total=file_size, desc=file_name, unit='B', unit_scale=True)\n",
    "    # 发起请求\n",
    "    response = requests.get(url, stream=True)\n",
    "    # 分块写入文件\n",
    "    with open(file_path, 'wb') as f:\n",
    "        for chunk in response.iter_content(chunk_size=1024):\n",
    "            if chunk:\n",
    "                f.write(chunk)\n",
    "                pbar.update(len(chunk))\n",
    "    # 关闭进度条\n",
    "    pbar.close()\n",
    "\n",
    "# 定义链接列表\n",
    "model_urls = [\n",
    "    \"https://github.com/facefusion/facefusion-assets/releases/download/models/inswapper_128.onnx\",\n",
    "    \"https://github.com/facefusion/facefusion-assets/releases/download/models/inswapper_128_fp16.onnx\",\n",
    "    \"https://github.com/facefusion/facefusion-assets/releases/download/models/GFPGANv1.4.onnx\",\n",
    "    \"https://github.com/facefusion/facefusion-assets/releases/download/models/GFPGANv1.3.onnx\",\n",
    "    \"https://github.com/facefusion/facefusion-assets/releases/download/models/GFPGANv1.2.onnx\",\n",
    "    \"https://github.com/facefusion/facefusion-assets/releases/download/models/codeformer.onnx\",\n",
    "    \"https://github.com/facefusion/facefusion-assets/releases/download/models/GPEN-BFR-512.onnx\",\n",
    "    \"https://github.com/xinntao/Real-ESRGAN/releases/download/v0.2.1/RealESRGAN_x2plus.pth\",\n",
    "    \"https://github.com/xinntao/Real-ESRGAN/releases/download/v0.1.0/RealESRGAN_x4plus.pth\",\n",
    "    \"https://github.com/xinntao/Real-ESRGAN/releases/download/v0.1.1/RealESRNet_x4plus.pth\"\n",
    "]\n",
    "\n",
    "# 定义文件夹\n",
    "file_dir = '/root/autodl-temp/src2/models'\n",
    "\n",
    "# 创建线程列表\n",
    "threads = []\n",
    "\n",
    "# 遍历链接列表\n",
    "for url in model_urls:\n",
    "    # 获取文件名\n",
    "    file_name = url.split('/')[-1]\n",
    "    # 创建线程对象\n",
    "    thread = threading.Thread(target=download, args=(url, file_name, file_dir))\n",
    "    # 添加到线程列表\n",
    "    threads.append(thread)\n",
    "\n",
    "# 启动所有线程\n",
    "for thread in threads:\n",
    "    thread.start()\n",
    "\n",
    "# 等待所有线程结束\n",
    "for thread in threads:\n",
    "    thread.join()\n",
    "\n",
    "# 打印完成信息\n",
    "print('所有文件下载完成！')\n"
   ]
  },
  {
   "cell_type": "code",
   "execution_count": null,
   "id": "0eda7b20-5b2b-427d-8097-4af32b71ac10",
   "metadata": {},
   "outputs": [],
   "source": [
    "print(\"hello\")"
   ]
  },
  {
   "cell_type": "markdown",
   "id": "c6b91811",
   "metadata": {},
   "source": [
    "## 2.安装依赖"
   ]
  },
  {
   "cell_type": "code",
   "execution_count": null,
   "id": "1a741b9e",
   "metadata": {
    "ExecutionIndicator": {
     "show": true
    },
    "tags": []
   },
   "outputs": [],
   "source": [
    "%cd /root/autodl-tmp/src2/\n",
    "!python install.py --torch cuda-nightly --onnxruntime cuda-nightly --skip-venv"
   ]
  },
  {
   "cell_type": "markdown",
   "id": "411d71a7",
   "metadata": {},
   "source": [
    "## 3.运行"
   ]
  },
  {
   "cell_type": "code",
   "execution_count": null,
   "id": "b6f27d0c",
   "metadata": {},
   "outputs": [],
   "source": [
    "%cd /root/autodl-tmp/src2/\n",
    "!python run.py --execution-providers cuda --face-swapper-model inswapper_128 "
   ]
  }
 ],
 "metadata": {
  "kernelspec": {
   "display_name": "Python 3 (ipykernel)",
   "language": "python",
   "name": "python3"
  },
  "language_info": {
   "codemirror_mode": {
    "name": "ipython",
    "version": 3
   },
   "file_extension": ".py",
   "mimetype": "text/x-python",
   "name": "python",
   "nbconvert_exporter": "python",
   "pygments_lexer": "ipython3",
   "version": "3.10.8"
  }
 },
 "nbformat": 4,
 "nbformat_minor": 5
}
