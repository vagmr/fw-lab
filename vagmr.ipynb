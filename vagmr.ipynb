{
 "cells": [
  {
   "cell_type": "code",
   "execution_count": null,
   "id": "2cb4f440-08e6-41e0-9a55-40ce30d1ed4d",
   "metadata": {},
   "outputs": [],
   "source": [
    "!python"
   ]
  },
  {
   "cell_type": "markdown",
   "id": "33b9f6b4",
   "metadata": {},
   "source": [
    "## 1.在我的镜像下直接移入文件即可"
   ]
  },
  {
   "cell_type": "markdown",
   "id": "2c42f415-54ca-439f-a8e6-c588004d9b48",
   "metadata": {},
   "source": [
    "## 2.手动下载"
   ]
  },
  {
   "cell_type": "markdown",
   "id": "28238ea0-5abc-41c2-923b-c03837c149b9",
   "metadata": {},
   "source": [
    "### 1.克隆仓库"
   ]
  },
  {
   "cell_type": "code",
   "execution_count": null,
   "id": "4a7b9415-93b2-4371-9355-42bbc2c0fc09",
   "metadata": {},
   "outputs": [],
   "source": [
    "%cd /root/autodl-tmp/src/\n",
    "!git clone https://github.com/vagmr/roop_nsfw-gui.git\n",
    "!git clone https://github.com/dream80/roop_colab.git\n"
   ]
  },
  {
   "cell_type": "markdown",
   "id": "0061853b-fa35-46e2-aa73-167c734d9801",
   "metadata": {},
   "source": [
    "### 2，确认版本"
   ]
  },
  {
   "cell_type": "code",
   "execution_count": null,
   "id": "2fe45d60-aca0-45f0-a273-6ca52b0634cf",
   "metadata": {},
   "outputs": [],
   "source": [
    "%cd /root/autodl-tmp/src/roop/\n",
    "Version = \"v1.3.2\" #@param [\"v1.3.0\",\"v1.3.1\",\"v1.3.2\"]\n",
    "\n",
    "vdict = {\n",
    "    \"v1.3.0\": \"142284916a5448acdf1a7fdca56d01c5aecafdad\",\n",
    "    \"v1.3.1\": \"e0642702f388ea16089a1d4a929728fa69457d60\",\n",
    "    \"v1.3.2\": \"c2d1feb17a9c51061b52cae5897136528f3b80cc\",\n",
    "}\n",
    "\n",
    "commit=vdict.get(Version, \"Invalid Version\")\n",
    "\n",
    "vcmd= f\"checkout {commit}\"\n",
    "\n",
    "\n",
    "!git $vcmd"
   ]
  },
  {
   "cell_type": "markdown",
   "id": "ae7222b0-e5e1-4432-a34b-1830dbb997e6",
   "metadata": {},
   "source": [
    "### 3.下载依赖"
   ]
  },
  {
   "cell_type": "code",
   "execution_count": null,
   "id": "a43854c6-df82-4111-8fd1-e3cda0249c31",
   "metadata": {},
   "outputs": [],
   "source": [
    "%cd /root/autodl-tmp/src/roop/\n",
    "!pip install -r requirements.txt\n",
    "#!pip install ort-nightly-gpu==1.17.0.dev20231205004\n",
    "#!pip install onnxruntime-gpu==1.15.0\n",
    "!pip install onnxruntime-gpu==1.17.0 "
   ]
  },
  {
   "cell_type": "code",
   "execution_count": null,
   "id": "065ffb69-9355-4c2f-90f7-16bb882e7c06",
   "metadata": {},
   "outputs": [],
   "source": [
    "在终端执行\n",
    "sudo apt update  # 更新包列表\n",
    "sudo apt install ffmpeg  # 安装ffmpeg"
   ]
  },
  {
   "cell_type": "markdown",
   "id": "be91fee3-f06f-44e1-86f4-11a10e3d07df",
   "metadata": {},
   "source": [
    "### 4.准备文件"
   ]
  },
  {
   "cell_type": "code",
   "execution_count": null,
   "id": "efaeb066-1cc0-45c7-add4-b7c92dbd3c7a",
   "metadata": {},
   "outputs": [],
   "source": [
    "from string import ascii_uppercase, digits\n",
    "from random import choices, randint\n",
    "from datetime import datetime\n",
    "length = randint(8,16)\n",
    "out_png_name = ''.join(choices(ascii_uppercase + digits, k=length))\n",
    "out_video_name = ''.join(choices(ascii_uppercase + digits, k=length))\n",
    "now = datetime.now()\n",
    "out_time = now.strftime('%y%m%d[%H]')\n",
    "source = \"/root/autodl-tmp/src/roop_colab/1.jpg\" #@param {type:\"string\"}\n",
    "target = \"/root/autodl-tmp/src/roop_colab/2.mp4\" #@param {type:\"string\"}\n",
    "output = f\"/root/autodl-tmp/src/roop_colab/{out_video_name}-{out_time}.mp4\" #@param {type:\"string\"}\n",
    "print(\"ok\")"
   ]
  },
  {
   "cell_type": "markdown",
   "id": "87e94a83-8217-40ba-88bb-b5b05c9602c6",
   "metadata": {},
   "source": [
    "### 5.运行\n",
    "运行前需要先下载依赖\n"
   ]
  },
  {
   "cell_type": "code",
   "execution_count": null,
   "id": "0cbdb3e3-6e20-45e1-bc3a-521babd49c84",
   "metadata": {},
   "outputs": [],
   "source": [
    "!wget https://github.com/dream80/roop_colab/releases/download/v0.0.1/inswapper_128.onnx\n",
    "!mkdir models\n",
    "!mv inswapper_128.onnx models/\n",
    "\n",
    "!wget https://github.com/TencentARC/GFPGAN/releases/download/v1.3.4/GFPGANv1.4.pth\n",
    "!mv GFPGANv1.4.pth models/"
   ]
  },
  {
   "cell_type": "code",
   "execution_count": null,
   "id": "d7554780-a952-4441-9d87-b2dca2649adf",
   "metadata": {},
   "outputs": [],
   "source": [
    "%cd /root/autodl-tmp/src/roop/\n",
    "\n",
    "Device = \"cpu\" #@param [\"cuda\", \"cpu\"]\n",
    "\n",
    "Processor = \"face_swapper face_enhancer\" #@param [\"face_swapper face_enhancer\", \"face_swapper\",\"face_enhancer\"]\n",
    "\n",
    "VideoEncoder = \"libx264\" #@param ['libx264', 'libx265', 'libvpx-vp9', 'h264_nvenc', 'hevc_nvenc']\n",
    "\n",
    "VideoQuality = \"35\" #@param {type:\"string\"}\n",
    "\n",
    "TempFormat = \"jpg\" #@param [\"jpg\", \"png\"]\n",
    "\n",
    "TempQuality = \"0\" #@param {type:\"string\"}\n",
    "\n",
    "\n",
    "KeepFPS = True #@param {type:\"boolean\"}\n",
    "SkipAudio = False #@param {type:\"boolean\"}\n",
    "KeepFrames = False #@param {type:\"boolean\"}\n",
    "ManyFaces = True #@param {type:\"boolean\"}\n",
    "\n",
    "\n",
    "KeepFPS =\"--keep-fps\" if KeepFPS==True else \"\"\n",
    "SkipAudio =\"--skip-audio\" if SkipAudio==True else \"\"\n",
    "KeepFrames =\"--keep-frames\" if KeepFrames==True else \"\"\n",
    "ManyFaces =\"--many-faces\" if ManyFaces==True else \"\"\n",
    "max_memory = \"30\"\n",
    "\n",
    "\n",
    "\n",
    "cmd = f\"run.py --execution-provider {Device} -s {source} -t {target} -o {output} --frame-processor {Processor} --output-video-encoder {VideoEncoder} --output-video-quality {VideoQuality} {KeepFPS} {SkipAudio} {KeepFrames} {ManyFaces} --temp-frame-format {TempFormat} --temp-frame-quality {TempQuality} --max-memory {max_memory} --execution-threads 30  \"\n",
    "print(\"输出命令:\"+cmd)\n",
    "\n",
    "\n",
    "\n",
    "!python $cmd"
   ]
  },
  {
   "cell_type": "markdown",
   "id": "b7f52384-0386-4cdc-8049-b24f402fe306",
   "metadata": {},
   "source": [
    "### 5.2 第二种运行方式\n"
   ]
  },
  {
   "cell_type": "code",
   "execution_count": null,
   "id": "4734131b-6d88-44b6-9da7-dcef355f6dc9",
   "metadata": {},
   "outputs": [],
   "source": [
    "%cd /root/autodl-tmp/src/roop/\n",
    "!sudo apt-get install xvfb\n",
    "xvfb-run -a python run.py"
   ]
  }
 ],
 "metadata": {
  "kernelspec": {
   "display_name": "Python 3 (ipykernel)",
   "language": "python",
   "name": "python3"
  },
  "language_info": {
   "codemirror_mode": {
    "name": "ipython",
    "version": 3
   },
   "file_extension": ".py",
   "mimetype": "text/x-python",
   "name": "python",
   "nbconvert_exporter": "python",
   "pygments_lexer": "ipython3",
   "version": "3.10.8"
  }
 },
 "nbformat": 4,
 "nbformat_minor": 5
}
